{
  "metadata": {
    "kernelspec": {
      "name": "python3",
      "display_name": "Python 3",
      "language": "python"
    },
    "language_info": {
      "name": "python",
      "version": "3.10.14",
      "mimetype": "text/x-python",
      "codemirror_mode": {
        "name": "ipython",
        "version": 3
      },
      "pygments_lexer": "ipython3",
      "nbconvert_exporter": "python",
      "file_extension": ".py"
    },
    "colab": {
      "provenance": [],
      "include_colab_link": true
    },
    "kaggle": {
      "accelerator": "none",
      "dataSources": [],
      "dockerImageVersionId": 30786,
      "isInternetEnabled": true,
      "language": "python",
      "sourceType": "notebook",
      "isGpuEnabled": false
    }
  },
  "nbformat_minor": 0,
  "nbformat": 4,
  "cells": [
    {
      "cell_type": "markdown",
      "metadata": {
        "id": "view-in-github",
        "colab_type": "text"
      },
      "source": [
        "<a href=\"https://colab.research.google.com/github/kandiharish/Gen-AI/blob/main/prompting.ipynb\" target=\"_parent\"><img src=\"https://colab.research.google.com/assets/colab-badge.svg\" alt=\"Open In Colab\"/></a>"
      ]
    },
    {
      "cell_type": "code",
      "source": [
        "%pip install -U -q \"google-generativeai>=0.8.3\""
      ],
      "metadata": {
        "id": "NzwzJFU9LqkJ",
        "trusted": true,
        "execution": {
          "iopub.status.busy": "2024-11-13T10:05:21.720367Z",
          "iopub.execute_input": "2024-11-13T10:05:21.720708Z",
          "iopub.status.idle": "2024-11-13T10:05:21.727477Z",
          "shell.execute_reply.started": "2024-11-13T10:05:21.720674Z",
          "shell.execute_reply": "2024-11-13T10:05:21.726462Z"
        }
      },
      "outputs": [],
      "execution_count": null
    },
    {
      "cell_type": "markdown",
      "source": [
        "You do not need to restart the kernel."
      ],
      "metadata": {
        "id": "cQtPQr5Qvc9g"
      }
    },
    {
      "cell_type": "code",
      "source": [
        "import google.generativeai as genai\n",
        "from IPython.display import HTML, Markdown, display"
      ],
      "metadata": {
        "id": "5DwxYIRavMST",
        "trusted": true,
        "execution": {
          "iopub.status.busy": "2024-11-13T10:05:21.728920Z",
          "iopub.execute_input": "2024-11-13T10:05:21.729856Z",
          "iopub.status.idle": "2024-11-13T10:05:22.915433Z",
          "shell.execute_reply.started": "2024-11-13T10:05:21.729768Z",
          "shell.execute_reply": "2024-11-13T10:05:22.914492Z"
        }
      },
      "outputs": [],
      "execution_count": null
    },
    {
      "cell_type": "markdown",
      "source": [
        "### Set up your API key\n",
        "\n",
        "To run the following cell, your API key must be stored it in a [Kaggle secret](https://www.kaggle.com/discussions/product-feedback/114053) named `GOOGLE_API_KEY`.\n",
        "\n",
        "If you don't already have an API key, you can grab one from [AI Studio](https://aistudio.google.com/app/apikey). You can find [detailed instructions in the docs](https://ai.google.dev/gemini-api/docs/api-key).\n",
        "\n",
        "To make the key available through Kaggle secrets, choose `Secrets` from the `Add-ons` menu and follow the instructions to add your key or enable it for this notebook."
      ],
      "metadata": {
        "id": "DNEt2BCOvOJ1"
      }
    },
    {
      "cell_type": "code",
      "source": [
        "from kaggle_secrets import UserSecretsClient\n",
        "\n",
        "GOOGLE_API_KEY = UserSecretsClient().get_secret(\"GOOGLE_API_KEY\")\n",
        "genai.configure(api_key=GOOGLE_API_KEY)"
      ],
      "metadata": {
        "id": "SHl0bkPCvayd",
        "trusted": true,
        "execution": {
          "iopub.status.busy": "2024-11-13T10:05:22.916809Z",
          "iopub.execute_input": "2024-11-13T10:05:22.917393Z",
          "iopub.status.idle": "2024-11-13T10:05:23.783144Z",
          "shell.execute_reply.started": "2024-11-13T10:05:22.917345Z",
          "shell.execute_reply": "2024-11-13T10:05:23.782217Z"
        }
      },
      "outputs": [],
      "execution_count": null
    },
    {
      "cell_type": "markdown",
      "source": [
        "### Run your first prompt\n",
        "\n",
        "In this step, you will test that your API key is set up correctly by making a request. The `gemini-1.5-flash` model has been selected here."
      ],
      "metadata": {
        "id": "H_YXCYIKvyZJ"
      }
    },
    {
      "cell_type": "code",
      "source": [
        "flash = genai.GenerativeModel('gemini-1.5-flash')\n",
        "response = flash.generate_content(\"Explain AI to me like I'm a kid.\")\n",
        "print(response.text)"
      ],
      "metadata": {
        "id": "BV1o0PmcvyJF",
        "trusted": true,
        "execution": {
          "iopub.status.busy": "2024-11-13T10:05:23.786332Z",
          "iopub.execute_input": "2024-11-13T10:05:23.786762Z",
          "iopub.status.idle": "2024-11-13T10:05:25.509971Z",
          "shell.execute_reply.started": "2024-11-13T10:05:23.786716Z",
          "shell.execute_reply": "2024-11-13T10:05:25.508844Z"
        },
        "outputId": "7e0de04c-44e6-4680-e618-2be53bcb9ce8"
      },
      "outputs": [
        {
          "name": "stdout",
          "text": "Imagine you have a super smart friend who loves to learn new things. This friend can read tons of books and websites, watch all sorts of videos, and even play games to learn how things work. \n\nThis friend is like AI, or Artificial Intelligence. It's like a really smart computer program that can learn and do things that usually need a human brain. \n\nFor example, your AI friend can:\n\n* **Recognize pictures:**  Show it a picture of a cat, and it can tell you it's a cat! It even knows different breeds of cats!\n* **Answer questions:** Ask it about dinosaurs, and it can tell you facts about them, just like a big encyclopedia.\n* **Write stories:** It can create stories about magical creatures or even about your day! \n* **Help you with games:** Play a game with your AI friend, and it can learn how to play and even get better at it than you!\n\nAI is still learning, just like you and your friend!  But it's getting smarter and smarter every day, and it can already do some pretty amazing things! \n\n",
          "output_type": "stream"
        }
      ],
      "execution_count": null
    },
    {
      "cell_type": "markdown",
      "source": [
        "The response often comes back in markdown format, which you can render directly in this notebook."
      ],
      "metadata": {
        "id": "f60ed9d8ae41"
      }
    },
    {
      "cell_type": "code",
      "source": [
        "Markdown(response.text)"
      ],
      "metadata": {
        "id": "c933e5e460a5",
        "trusted": true,
        "execution": {
          "iopub.status.busy": "2024-11-13T10:05:25.511300Z",
          "iopub.execute_input": "2024-11-13T10:05:25.511712Z",
          "iopub.status.idle": "2024-11-13T10:05:25.519989Z",
          "shell.execute_reply.started": "2024-11-13T10:05:25.511668Z",
          "shell.execute_reply": "2024-11-13T10:05:25.518926Z"
        },
        "outputId": "bd156a32-4cb2-40eb-a6d8-fd470f5b1c29"
      },
      "outputs": [
        {
          "execution_count": 6,
          "output_type": "execute_result",
          "data": {
            "text/plain": "<IPython.core.display.Markdown object>",
            "text/markdown": "Imagine you have a super smart friend who loves to learn new things. This friend can read tons of books and websites, watch all sorts of videos, and even play games to learn how things work. \n\nThis friend is like AI, or Artificial Intelligence. It's like a really smart computer program that can learn and do things that usually need a human brain. \n\nFor example, your AI friend can:\n\n* **Recognize pictures:**  Show it a picture of a cat, and it can tell you it's a cat! It even knows different breeds of cats!\n* **Answer questions:** Ask it about dinosaurs, and it can tell you facts about them, just like a big encyclopedia.\n* **Write stories:** It can create stories about magical creatures or even about your day! \n* **Help you with games:** Play a game with your AI friend, and it can learn how to play and even get better at it than you!\n\nAI is still learning, just like you and your friend!  But it's getting smarter and smarter every day, and it can already do some pretty amazing things! \n"
          },
          "metadata": {}
        }
      ],
      "execution_count": null
    },
    {
      "cell_type": "markdown",
      "source": [
        "### Start a chat\n",
        "\n",
        "The previous example uses a single-turn, text-in/text-out structure, but you can also set up a multi-turn chat structure too."
      ],
      "metadata": {
        "id": "byx0pT9ZMW2Q"
      }
    },
    {
      "cell_type": "code",
      "source": [
        "chat = flash.start_chat(history=[])\n",
        "response = chat.send_message('Hello! My name is Zlork.')\n",
        "print(response.text)"
      ],
      "metadata": {
        "id": "lV_S5ZL5MidD",
        "trusted": true,
        "execution": {
          "iopub.status.busy": "2024-11-13T10:05:25.521624Z",
          "iopub.execute_input": "2024-11-13T10:05:25.522042Z",
          "iopub.status.idle": "2024-11-13T10:05:26.061292Z",
          "shell.execute_reply.started": "2024-11-13T10:05:25.521996Z",
          "shell.execute_reply": "2024-11-13T10:05:26.060247Z"
        },
        "outputId": "fe9210da-b504-4765-a847-1c4c7350798c"
      },
      "outputs": [
        {
          "name": "stdout",
          "text": "Hello Zlork! It's nice to meet you. 😊 What can I do for you today? \n\n",
          "output_type": "stream"
        }
      ],
      "execution_count": null
    },
    {
      "cell_type": "code",
      "source": [
        "response = chat.send_message('Can you tell something interesting about dinosaurs?')\n",
        "print(response.text)"
      ],
      "metadata": {
        "id": "7b0372c3c64a",
        "trusted": true,
        "execution": {
          "iopub.status.busy": "2024-11-13T10:05:26.062480Z",
          "iopub.execute_input": "2024-11-13T10:05:26.062804Z",
          "iopub.status.idle": "2024-11-13T10:05:27.754542Z",
          "shell.execute_reply.started": "2024-11-13T10:05:26.062756Z",
          "shell.execute_reply": "2024-11-13T10:05:27.753432Z"
        },
        "outputId": "38255dd3-d2e1-474b-9709-162b53cb2312"
      },
      "outputs": [
        {
          "name": "stdout",
          "text": "Okay, Zlork!  Here's a fascinating dinosaur fact:  \n\n**Some dinosaurs had feathers!**  \n\nThat's right, not all dinosaurs were scaly behemoths. Scientists have found evidence that many dinosaurs, including the famous *Velociraptor*, sported feathers.  These feathers weren't necessarily for flying, but might have been used for insulation, display, or even to attract mates. \n\nThis discovery has revolutionized our understanding of dinosaurs, showing they were more diverse and fascinating than we ever imagined. \n\nWhat else would you like to know about dinosaurs? \n\n",
          "output_type": "stream"
        }
      ],
      "execution_count": null
    },
    {
      "cell_type": "code",
      "source": [
        "# While you have the `chat` object around, the conversation state\n",
        "# persists. Confirm that by asking if it knows my name.\n",
        "response = chat.send_message('Do you remember what my name is?')\n",
        "print(response.text)"
      ],
      "metadata": {
        "id": "d3f9591392a7",
        "trusted": true,
        "execution": {
          "iopub.status.busy": "2024-11-13T10:05:27.755901Z",
          "iopub.execute_input": "2024-11-13T10:05:27.756315Z",
          "iopub.status.idle": "2024-11-13T10:05:28.890313Z",
          "shell.execute_reply.started": "2024-11-13T10:05:27.756269Z",
          "shell.execute_reply": "2024-11-13T10:05:28.889171Z"
        },
        "outputId": "2ec2fff2-32c3-4fea-82ec-1c858f16e297"
      },
      "outputs": [
        {
          "name": "stdout",
          "text": "Of course I remember! Your name is Zlork. 😊  It's great to chat with you! \n\nIs there anything else you'd like to know? \n\n",
          "output_type": "stream"
        }
      ],
      "execution_count": null
    },
    {
      "cell_type": "markdown",
      "source": [
        "### Choose a model\n",
        "\n",
        "The Gemini API provides access to a number of models from the Gemini model family. Read about the available models and their capabilities on the [model overview page](https://ai.google.dev/gemini-api/docs/models/gemini).\n",
        "\n",
        "In this step you'll use the API to list all of the available models."
      ],
      "metadata": {
        "id": "2KAjpr1200sW"
      }
    },
    {
      "cell_type": "code",
      "source": [
        "for model in genai.list_models():\n",
        "  print(model.name)"
      ],
      "metadata": {
        "id": "uUUZa2uq2jDm",
        "trusted": true,
        "execution": {
          "iopub.status.busy": "2024-11-13T10:05:28.891522Z",
          "iopub.execute_input": "2024-11-13T10:05:28.891880Z",
          "iopub.status.idle": "2024-11-13T10:05:29.666267Z",
          "shell.execute_reply.started": "2024-11-13T10:05:28.891837Z",
          "shell.execute_reply": "2024-11-13T10:05:29.665119Z"
        },
        "outputId": "ba3cdace-2d27-4677-b89d-7a267f6206f7"
      },
      "outputs": [
        {
          "name": "stdout",
          "text": "models/chat-bison-001\nmodels/text-bison-001\nmodels/embedding-gecko-001\nmodels/gemini-1.0-pro-latest\nmodels/gemini-1.0-pro\nmodels/gemini-pro\nmodels/gemini-1.0-pro-001\nmodels/gemini-1.0-pro-vision-latest\nmodels/gemini-pro-vision\nmodels/gemini-1.5-pro-latest\nmodels/gemini-1.5-pro-001\nmodels/gemini-1.5-pro-002\nmodels/gemini-1.5-pro\nmodels/gemini-1.5-pro-exp-0801\nmodels/gemini-1.5-pro-exp-0827\nmodels/gemini-1.5-flash-latest\nmodels/gemini-1.5-flash-001\nmodels/gemini-1.5-flash-001-tuning\nmodels/gemini-1.5-flash\nmodels/gemini-1.5-flash-exp-0827\nmodels/gemini-1.5-flash-002\nmodels/gemini-1.5-flash-8b\nmodels/gemini-1.5-flash-8b-001\nmodels/gemini-1.5-flash-8b-latest\nmodels/gemini-1.5-flash-8b-exp-0827\nmodels/gemini-1.5-flash-8b-exp-0924\nmodels/embedding-001\nmodels/text-embedding-004\nmodels/aqa\n",
          "output_type": "stream"
        }
      ],
      "execution_count": null
    },
    {
      "cell_type": "markdown",
      "source": [
        "The [`models.list`](https://ai.google.dev/api/models#method:-models.list) response also returns additional information about the model's capabilities, like the token limits and supported parameters."
      ],
      "metadata": {
        "id": "rN49kSI54R1v"
      }
    },
    {
      "cell_type": "code",
      "source": [
        "for model in genai.list_models():\n",
        "  print(model.name)"
      ],
      "metadata": {
        "id": "k7JJ1K6j4Rl8",
        "trusted": true,
        "execution": {
          "iopub.status.busy": "2024-11-13T10:05:29.667381Z",
          "iopub.execute_input": "2024-11-13T10:05:29.667716Z",
          "iopub.status.idle": "2024-11-13T10:05:30.437751Z",
          "shell.execute_reply.started": "2024-11-13T10:05:29.667682Z",
          "shell.execute_reply": "2024-11-13T10:05:30.436760Z"
        },
        "outputId": "72391ad9-bf65-442d-85f0-90af00d5e50a"
      },
      "outputs": [
        {
          "name": "stdout",
          "text": "Model(name='models/gemini-1.5-flash',\n      base_model_id='',\n      version='001',\n      display_name='Gemini 1.5 Flash',\n      description='Fast and versatile multimodal model for scaling across diverse tasks',\n      input_token_limit=1000000,\n      output_token_limit=8192,\n      supported_generation_methods=['generateContent', 'countTokens'],\n      temperature=1.0,\n      max_temperature=2.0,\n      top_p=0.95,\n      top_k=40)\n",
          "output_type": "stream"
        }
      ],
      "execution_count": null
    },
    {
      "cell_type": "markdown",
      "source": [
        "## Explore generation parameters\n",
        "\n"
      ],
      "metadata": {
        "id": "5rU_UBlZdooM"
      }
    },
    {
      "cell_type": "markdown",
      "source": [
        "### Output length\n",
        "\n",
        "When generating text with an LLM, the output length affects cost and performance. Generating more tokens increases computation, leading to higher energy consumption, latency, and cost.\n",
        "\n",
        "To stop the model from generating tokens past a limit, you can specify the `max_output_tokens` parameter when using the Gemini API. Specifying this parameter does not influence the generation of the output tokens, so the output will not become more stylistically or textually succinct, but it will stop generating tokens once the specified length is reached. Prompt engineering may be required to generate a more complete output for your given limit."
      ],
      "metadata": {
        "id": "G7NfEizeipbW"
      }
    },
    {
      "cell_type": "code",
      "source": [
        "short_model = genai.GenerativeModel(\n",
        "    'gemini-1.5-flash',\n",
        "    generation_config=genai.GenerationConfig(max_output_tokens=200))\n",
        "\n",
        "response = short_model.generate_content('Write a 1000 word essay on the importance of olives in modern society.')\n",
        "print(response.text)"
      ],
      "metadata": {
        "id": "qVf23JsIi9ma",
        "trusted": true,
        "execution": {
          "iopub.status.busy": "2024-11-13T10:05:30.439320Z",
          "iopub.execute_input": "2024-11-13T10:05:30.439731Z",
          "iopub.status.idle": "2024-11-13T10:05:31.923823Z",
          "shell.execute_reply.started": "2024-11-13T10:05:30.439685Z",
          "shell.execute_reply": "2024-11-13T10:05:31.922836Z"
        },
        "outputId": "ca595d51-e778-4437-e633-5b73aaaa0515"
      },
      "outputs": [
        {
          "name": "stdout",
          "text": "## The Eternal Olive: A Culinary, Cultural, and Economic Backbone\n\nThe olive, a symbol of peace and prosperity, has been woven into the fabric of human civilization for millennia. From its humble beginnings in the Mediterranean basin, this unassuming fruit has transcended its culinary role to become a cultural icon, an economic mainstay, and a vital component of modern life. Its importance extends far beyond the plate, reaching into realms of health, tradition, and sustainability.\n\nThe olive’s journey begins with its versatility. The fruit itself, whether green, black, or brined, offers a unique flavor profile that has captivated palates for centuries. Olive oil, the liquid gold extracted from its flesh, is a culinary staple, adding richness, depth, and health benefits to dishes worldwide. From the vibrant tapenade of Provence to the earthy pesto of Italy, the olive’s contribution to global cuisine is undeniable. \n\nBeyond its culinary role, the olive’s importance extends to its historical and\n",
          "output_type": "stream"
        }
      ],
      "execution_count": null
    },
    {
      "cell_type": "code",
      "source": [
        "response = short_model.generate_content('Write a short poem on the importance of olives in modern society.')\n",
        "print(response.text)"
      ],
      "metadata": {
        "id": "W-3kR2F5kdMR",
        "trusted": true,
        "execution": {
          "iopub.status.busy": "2024-11-13T10:05:31.925426Z",
          "iopub.execute_input": "2024-11-13T10:05:31.925864Z",
          "iopub.status.idle": "2024-11-13T10:05:32.947457Z",
          "shell.execute_reply.started": "2024-11-13T10:05:31.925817Z",
          "shell.execute_reply": "2024-11-13T10:05:32.946359Z"
        },
        "outputId": "ca976517-75c2-4cd5-ff6e-3d8c0ff1c52b"
      },
      "outputs": [
        {
          "name": "stdout",
          "text": "A tiny fruit, a silver sheen,\nFrom ancient lands, a modern queen.\nThe olive, small, a mighty prize,\nIn salads, oils, a savory guise.\n\nFrom tapenade to soaps so mild,\nIts versatility, a story wild.\nA symbol strong, of peace and grace,\nA humble fruit, in every space.\n\nSo raise a toast, to this small seed,\nFor sustenance and flavor, indeed.\nThe olive thrives, a timeless friend,\nIts value knows no earthly end. \n\n",
          "output_type": "stream"
        }
      ],
      "execution_count": null
    },
    {
      "cell_type": "markdown",
      "source": [
        "Explore with your own prompts. Try a prompt with a restrictive output limit and then adjust the prompt to work within that limit."
      ],
      "metadata": {
        "id": "3ZhDSLB6lqqB"
      }
    },
    {
      "cell_type": "markdown",
      "source": [
        "### Temperature\n",
        "\n",
        "Temperature controls the degree of randomness in token selection. Higher temperatures result in a higher number of candidate tokens from which the next output token is selected, and can produce more diverse results, while lower temperatures have the opposite effect, such that a temperature of 0 results in greedy decoding, selecting the most probable token at each step.\n",
        "\n",
        "Temperature doesn't provide any guarantees of randomness, but it can be used to \"nudge\" the output somewhat.\n",
        "\n",
        "**Note that if you see a 429 Resource Exhausted error here, you may be able to edit the words in the prompt slightly to progress.**"
      ],
      "metadata": {
        "id": "alx-WaAvir_9"
      }
    },
    {
      "cell_type": "code",
      "source": [
        "from google.api_core import retry\n",
        "\n",
        "high_temp_model = genai.GenerativeModel(\n",
        "    'gemini-1.5-flash',\n",
        "    generation_config=genai.GenerationConfig(temperature=2.0))\n",
        "\n",
        "\n",
        "# When running lots of queries, it's a good practice to use a retry policy so your code\n",
        "# automatically retries when hitting Resource Exhausted (quota limit) errors.\n",
        "retry_policy = {\n",
        "    \"retry\": retry.Retry(predicate=retry.if_transient_error, initial=10, multiplier=1.5, timeout=300)\n",
        "}\n",
        "\n",
        "for _ in range(5):\n",
        "  response = high_temp_model.generate_content('Pick a random colour... (respond in a single word)',\n",
        "                                              request_options=retry_policy)\n",
        "  if response.parts:\n",
        "    print(response.text, '-' * 25)"
      ],
      "metadata": {
        "id": "SHraGMzqnZqt",
        "trusted": true,
        "execution": {
          "iopub.status.busy": "2024-11-13T10:05:32.952338Z",
          "iopub.execute_input": "2024-11-13T10:05:32.952788Z",
          "iopub.status.idle": "2024-11-13T10:05:35.768454Z",
          "shell.execute_reply.started": "2024-11-13T10:05:32.952736Z",
          "shell.execute_reply": "2024-11-13T10:05:35.767323Z"
        },
        "outputId": "a934cfe5-3d04-42b6-90b4-4b591ce93e46"
      },
      "outputs": [
        {
          "name": "stdout",
          "text": "Blue. \n -------------------------\nTeal \n -------------------------\nBlue \n -------------------------\nTeal \n -------------------------\nPurple. \n -------------------------\n",
          "output_type": "stream"
        }
      ],
      "execution_count": null
    },
    {
      "cell_type": "markdown",
      "source": [
        "Now try the same prompt with temperature set to zero. Note that the output is not completely deterministic, as other parameters affect token selection, but the results will tend to be more stable."
      ],
      "metadata": {
        "id": "z3J4pCTuof7e"
      }
    },
    {
      "cell_type": "code",
      "source": [
        "low_temp_model = genai.GenerativeModel(\n",
        "    'gemini-1.5-flash',\n",
        "    generation_config=genai.GenerationConfig(temperature=0.0))\n",
        "\n",
        "for _ in range(5):\n",
        "  response = low_temp_model.generate_content('Pick a random colour... (respond in a single word)',\n",
        "                                             request_options=retry_policy)\n",
        "  if response.parts:\n",
        "    print(response.text, '-' * 25)"
      ],
      "metadata": {
        "id": "clymkWv-PfUZ",
        "trusted": true,
        "execution": {
          "iopub.status.busy": "2024-11-13T10:05:35.769722Z",
          "iopub.execute_input": "2024-11-13T10:05:35.770084Z",
          "iopub.status.idle": "2024-11-13T10:05:58.142978Z",
          "shell.execute_reply.started": "2024-11-13T10:05:35.770048Z",
          "shell.execute_reply": "2024-11-13T10:05:58.141844Z"
        },
        "outputId": "b819a2f5-8211-4cb4-805b-92a9e920e61f"
      },
      "outputs": [
        {
          "name": "stdout",
          "text": "Purple \n -------------------------\nPurple \n -------------------------\nPurple \n -------------------------\nPurple \n -------------------------\nPurple \n -------------------------\n",
          "output_type": "stream"
        }
      ],
      "execution_count": null
    },
    {
      "cell_type": "markdown",
      "source": [
        "### Top-K and top-P\n",
        "\n",
        "Like temperature, top-K and top-P parameters are also used to control the diversity of the model's output.\n",
        "\n",
        "Top-K is a positive integer that defines the number of most probable tokens from which to select the output token. A top-K of 1 selects a single token, performing greedy decoding.\n",
        "\n",
        "Top-P defines the probability threshold that, once cumulatively exceeded, tokens stop being selected as candidates. A top-P of 0 is typically equivalent to greedy decoding, and a top-P of 1 typically selects every token in the model's vocabulary.\n",
        "\n",
        "When both are supplied, the Gemini API will filter top-K tokens first, then top-P and then finally sample from the candidate tokens using the supplied temperature.\n",
        "\n",
        "Run this example a number of times, change the settings and observe the change in output."
      ],
      "metadata": {
        "id": "St5nt3vzitsZ"
      }
    },
    {
      "cell_type": "code",
      "source": [
        "model = genai.GenerativeModel(\n",
        "    'gemini-1.5-flash-001',\n",
        "    generation_config=genai.GenerationConfig(\n",
        "        # These are the default values for gemini-1.5-flash-001.\n",
        "        temperature=1.0,\n",
        "        top_k=64,\n",
        "        top_p=0.95,\n",
        "    ))\n",
        "\n",
        "story_prompt = \"You are a creative writer. Write a short story about a cat who goes on an adventure.\"\n",
        "response = model.generate_content(story_prompt, request_options=retry_policy)\n",
        "print(response.text)"
      ],
      "metadata": {
        "id": "lPlzpEavUV8F",
        "trusted": true,
        "execution": {
          "iopub.status.busy": "2024-11-13T10:05:58.144370Z",
          "iopub.execute_input": "2024-11-13T10:05:58.144702Z",
          "iopub.status.idle": "2024-11-13T10:06:13.016023Z",
          "shell.execute_reply.started": "2024-11-13T10:05:58.144669Z",
          "shell.execute_reply": "2024-11-13T10:06:13.014828Z"
        },
        "outputId": "71fd21a3-ffc0-4f87-e85c-3dfbcacaea24"
      },
      "outputs": [
        {
          "name": "stdout",
          "text": "Bartholomew, a ginger tabby with a penchant for mischief and a belly that jiggled with every purr, was not your average house cat. While his brethren were content with napping in sunbeams and batting at dust motes, Bartholomew yearned for adventure. His world, confined to the plush comfort of Mrs. Hawthorne's living room, felt unbearably small.\n\nOne sunny afternoon, the window was left ajar, a tempting gateway to the unknown. Bartholomew, seizing the opportunity, squeezed through the opening, landing on a bed of soft lavender. The world outside was a sensory explosion: birdsong, the scent of freshly cut grass, and the rustle of leaves. His whiskers twitched with delight. \n\nHis adventure began with a stealthy stalk through the garden, a symphony of chirps and rustles guiding his way. He chased a mischievous butterfly, its wings a kaleidoscope of colours, across the lawn, only to be distracted by a plump robin perched on a fencepost, squawking with indignity. Bartholomew, ever the gentleman, retreated, leaving the bird to its squawking.\n\nHe ventured further, his paws leading him to a forgotten path, winding through the woods. The sun dappled through the canopy, painting the ground in patterns of light and shadow.  He encountered a curious squirrel, its bushy tail twitching in alarm, and a family of rabbits, their white cottontails bobbing in unison. They were all so different from the humans he knew, and yet, Bartholomew felt a strange kinship with them, a connection that transcended species.\n\nAs the sun began to set, painting the sky in hues of orange and purple, Bartholomew realised he was lost. Fear, a prickling sensation in his fur, crept in. He missed Mrs. Hawthorne's warm lap and the comforting scent of her lavender soap.  \n\nJust as despair began to settle in, a familiar scent drifted on the breeze - the scent of fish and wet fur, the unmistakable smell of his own house cat, Whiskers.  Bartholomew followed the scent, his heart pounding with hope, until he saw Whiskers, sitting on the porch steps, looking out at the woods. \n\nWhiskers, a seasoned adventurer himself, had followed Bartholomew's scent, worried about his friend.  They exchanged a knowing glance, a silent understanding that passed between them. Bartholomew had found his way back, but he had also found something else, a sense of belonging in the vastness of the world, a knowledge that adventure was not just a yearning, but a journey worth taking.\n\nThat night, nestled beside Whiskers on Mrs. Hawthorne's lap, Bartholomew purred contentedly. He had tasted the world outside, and it was good. But he knew, with a quiet certainty, that his true home, his true adventure, lay in the love and companionship of his fellow felines, and the warmth of Mrs. Hawthorne's embrace. \n\n",
          "output_type": "stream"
        }
      ],
      "execution_count": null
    },
    {
      "cell_type": "markdown",
      "source": [
        "## Prompting\n",
        "\n",
        "This section contains some prompts from the chapter for you to try out directly in the API. Try changing the text here to see how each prompt performs with different instructions, more examples, or any other changes you can think of."
      ],
      "metadata": {
        "id": "rMrYs1koY6DX"
      }
    },
    {
      "cell_type": "markdown",
      "source": [
        "### Zero-shot\n",
        "\n",
        "Zero-shot prompts are prompts that describe the request for the model directly.\n",
        "\n",
        "<table align=left>\n",
        "  <td>\n",
        "    <a target=\"_blank\" href=\"https://aistudio.google.com/prompts/1gzKKgDHwkAvexG5Up0LMtl1-6jKMKe4g\"><img src=\"https://ai.google.dev/site-assets/images/marketing/home/icon-ais.png\" style=\"height: 24px\" height=24/> Open in AI Studio</a>\n",
        "  </td>\n",
        "</table>"
      ],
      "metadata": {
        "id": "hhj_tQidZJP7"
      }
    },
    {
      "cell_type": "code",
      "source": [
        "model = genai.GenerativeModel(\n",
        "    'gemini-1.5-flash-001',\n",
        "    generation_config=genai.GenerationConfig(\n",
        "        temperature=0.1,\n",
        "        top_p=1,\n",
        "        max_output_tokens=5,\n",
        "    ))\n",
        "\n",
        "zero_shot_prompt = \"\"\"Classify movie reviews as POSITIVE, NEUTRAL or NEGATIVE.\n",
        "Review: \"Her\" is a disturbing study revealing the direction\n",
        "humanity is headed if AI is allowed to keep evolving,\n",
        "unchecked. I wish there were more movies like this masterpiece.\n",
        "Sentiment: \"\"\"\n",
        "\n",
        "response = model.generate_content(zero_shot_prompt, request_options=retry_policy)\n",
        "print(response.text)"
      ],
      "metadata": {
        "id": "1_t-cwnDZzbH",
        "trusted": true,
        "execution": {
          "iopub.status.busy": "2024-11-13T10:06:13.017134Z",
          "iopub.execute_input": "2024-11-13T10:06:13.017438Z",
          "iopub.status.idle": "2024-11-13T10:06:13.439879Z",
          "shell.execute_reply.started": "2024-11-13T10:06:13.017407Z",
          "shell.execute_reply": "2024-11-13T10:06:13.438828Z"
        },
        "outputId": "82f17ec0-de72-4994-94a2-7e1f51eefaf8"
      },
      "outputs": [
        {
          "name": "stdout",
          "text": "Sentiment: **POSITIVE**\n",
          "output_type": "stream"
        }
      ],
      "execution_count": null
    },
    {
      "cell_type": "markdown",
      "source": [
        "#### Enum mode\n",
        "\n",
        "The models are trained to generate text, and can sometimes produce more text than you may wish for. In the preceding example, the model will output the label, sometimes it can include a preceding \"Sentiment\" label, and without an output token limit, it may also add explanatory text afterwards.\n",
        "\n",
        "The Gemini API has an [Enum mode](https://github.com/google-gemini/cookbook/blob/main/quickstarts/Enum.ipynb) feature that allows you to constrain the output to a fixed set of values."
      ],
      "metadata": {
        "id": "3b5568bdeb11"
      }
    },
    {
      "cell_type": "code",
      "source": [
        "import enum\n",
        "\n",
        "class Sentiment(enum.Enum):\n",
        "    POSITIVE = \"positive\"\n",
        "    NEUTRAL = \"neutral\"\n",
        "    NEGATIVE = \"negative\"\n",
        "\n",
        "\n",
        "model = genai.GenerativeModel(\n",
        "    'gemini-1.5-flash-001',\n",
        "    generation_config=genai.GenerationConfig(\n",
        "        response_mime_type=\"text/x.enum\",\n",
        "        response_schema=Sentiment\n",
        "    ))\n",
        "\n",
        "response = model.generate_content(zero_shot_prompt, request_options=retry_policy)\n",
        "print(response.text)"
      ],
      "metadata": {
        "id": "ad118a56c598",
        "trusted": true,
        "execution": {
          "iopub.status.busy": "2024-11-13T10:06:13.441288Z",
          "iopub.execute_input": "2024-11-13T10:06:13.442218Z",
          "iopub.status.idle": "2024-11-13T10:06:39.436155Z",
          "shell.execute_reply.started": "2024-11-13T10:06:13.442170Z",
          "shell.execute_reply": "2024-11-13T10:06:39.435103Z"
        },
        "outputId": "a655e68a-7e9e-410d-b6e2-25ad5c0507eb"
      },
      "outputs": [
        {
          "name": "stdout",
          "text": "positive\n",
          "output_type": "stream"
        }
      ],
      "execution_count": null
    },
    {
      "cell_type": "markdown",
      "source": [
        "### One-shot and few-shot\n",
        "\n",
        "Providing an example of the expected response is known as a \"one-shot\" prompt. When you provide multiple examples, it is a \"few-shot\" prompt.\n",
        "\n",
        "<table align=left>\n",
        "  <td>\n",
        "    <a target=\"_blank\" href=\"https://aistudio.google.com/prompts/1jjWkjUSoMXmLvMJ7IzADr_GxHPJVV2bg\"><img src=\"https://ai.google.dev/site-assets/images/marketing/home/icon-ais.png\" style=\"height: 24px\" height=24/> Open in AI Studio</a>\n",
        "  </td>\n",
        "</table>\n"
      ],
      "metadata": {
        "id": "0udiSwNbv45W"
      }
    },
    {
      "cell_type": "code",
      "source": [
        "model = genai.GenerativeModel(\n",
        "    'gemini-1.5-flash-latest',\n",
        "    generation_config=genai.GenerationConfig(\n",
        "        temperature=0.1,\n",
        "        top_p=1,\n",
        "        max_output_tokens=250,\n",
        "    ))\n",
        "\n",
        "few_shot_prompt = \"\"\"Parse a customer's pizza order into valid JSON:\n",
        "\n",
        "EXAMPLE:\n",
        "I want a small pizza with cheese, tomato sauce, and pepperoni.\n",
        "JSON Response:\n",
        "```\n",
        "{\n",
        "\"size\": \"small\",\n",
        "\"type\": \"normal\",\n",
        "\"ingredients\": [\"cheese\", \"tomato sauce\", \"peperoni\"]\n",
        "}\n",
        "```\n",
        "\n",
        "EXAMPLE:\n",
        "Can I get a large pizza with tomato sauce, basil and mozzarella\n",
        "JSON Response:\n",
        "```\n",
        "{\n",
        "\"size\": \"large\",\n",
        "\"type\": \"normal\",\n",
        "\"ingredients\": [\"tomato sauce\", \"basil\", \"mozzarella\"]\n",
        "}\n",
        "\n",
        "ORDER:\n",
        "\"\"\"\n",
        "\n",
        "customer_order = \"Give me a large with cheese & pineapple\"\n",
        "\n",
        "\n",
        "response = model.generate_content([few_shot_prompt, customer_order], request_options=retry_policy)\n",
        "print(response.text)"
      ],
      "metadata": {
        "id": "hd4mVUukwOKZ",
        "trusted": true,
        "execution": {
          "iopub.status.busy": "2024-11-13T10:06:39.437626Z",
          "iopub.execute_input": "2024-11-13T10:06:39.437995Z",
          "iopub.status.idle": "2024-11-13T10:06:40.047283Z",
          "shell.execute_reply.started": "2024-11-13T10:06:39.437959Z",
          "shell.execute_reply": "2024-11-13T10:06:40.046169Z"
        },
        "outputId": "8178a3a0-02aa-4bb0-e04c-fd45c2143c4c"
      },
      "outputs": [
        {
          "name": "stdout",
          "text": "```json\n{\n\"size\": \"large\",\n\"type\": \"normal\",\n\"ingredients\": [\"cheese\", \"pineapple\"]\n}\n``` \n\n",
          "output_type": "stream"
        }
      ],
      "execution_count": null
    },
    {
      "cell_type": "markdown",
      "source": [
        "#### JSON mode\n",
        "\n",
        "To provide control over the schema, and to ensure that you only receive JSON (with no other text or markdown), you can use the Gemini API's [JSON mode](https://github.com/google-gemini/cookbook/blob/main/quickstarts/JSON_mode.ipynb). This forces the model to constrain decoding, such that token selection is guided by the supplied schema."
      ],
      "metadata": {
        "id": "021293096f08"
      }
    },
    {
      "cell_type": "code",
      "source": [
        "import typing_extensions as typing\n",
        "\n",
        "class PizzaOrder(typing.TypedDict):\n",
        "    size: str\n",
        "    ingredients: list[str]\n",
        "    type: str\n",
        "\n",
        "\n",
        "model = genai.GenerativeModel(\n",
        "    'gemini-1.5-flash-latest',\n",
        "    generation_config=genai.GenerationConfig(\n",
        "        temperature=0.1,\n",
        "        response_mime_type=\"application/json\",\n",
        "        response_schema=PizzaOrder,\n",
        "    ))\n",
        "\n",
        "response = model.generate_content(\"Can I have a large dessert pizza with apple and chocolate\")\n",
        "print(response.text)"
      ],
      "metadata": {
        "id": "50fbf0260912",
        "trusted": true,
        "execution": {
          "iopub.status.busy": "2024-11-13T10:06:40.048816Z",
          "iopub.execute_input": "2024-11-13T10:06:40.049724Z",
          "iopub.status.idle": "2024-11-13T10:06:40.620654Z",
          "shell.execute_reply.started": "2024-11-13T10:06:40.049676Z",
          "shell.execute_reply": "2024-11-13T10:06:40.619638Z"
        },
        "outputId": "12dfb1b9-de18-4982-f4bd-6dd86c2c625e"
      },
      "outputs": [
        {
          "name": "stdout",
          "text": "{\"ingredients\": [\"apple\", \"chocolate\"], \"size\": \"large\", \"type\": \"dessert\"}\n\n",
          "output_type": "stream"
        }
      ],
      "execution_count": null
    },
    {
      "cell_type": "markdown",
      "source": [
        "### Chain of Thought (CoT)\n",
        "\n",
        "Direct prompting on LLMs can return answers quickly and (in terms of output token usage) efficiently, but they can be prone to hallucination. The answer may \"look\" correct (in terms of language and syntax) but is incorrect in terms of factuality and reasoning.\n",
        "\n",
        "Chain-of-Thought prompting is a technique where you instruct the model to output intermediate reasoning steps, and it typically gets better results, especially when combined with few-shot examples. It is worth noting that this technique doesn't completely eliminate hallucinations, and that it tends to cost more to run, due to the increased token count.\n",
        "\n",
        "As models like the Gemini family are trained to be \"chatty\" and provide reasoning steps, you can ask the model to be more direct in the prompt."
      ],
      "metadata": {
        "id": "4a93e338e57c"
      }
    },
    {
      "cell_type": "code",
      "source": [
        "prompt = \"\"\"When I was 4 years old, my partner was 3 times my age. Now, I\n",
        "am 20 years old. How old is my partner? Return the answer directly.\"\"\"\n",
        "\n",
        "model = genai.GenerativeModel('gemini-1.5-flash-latest')\n",
        "response = model.generate_content(prompt, request_options=retry_policy)\n",
        "\n",
        "print(response.text)"
      ],
      "metadata": {
        "id": "5715555db1c1",
        "trusted": true,
        "execution": {
          "iopub.status.busy": "2024-11-13T10:08:50.900618Z",
          "iopub.execute_input": "2024-11-13T10:08:50.901671Z",
          "iopub.status.idle": "2024-11-13T10:08:51.369367Z",
          "shell.execute_reply.started": "2024-11-13T10:08:50.901614Z",
          "shell.execute_reply": "2024-11-13T10:08:51.368311Z"
        },
        "outputId": "d7b5340d-b2be-4056-8406-f5e034825358"
      },
      "outputs": [
        {
          "name": "stdout",
          "text": "47 \n\n",
          "output_type": "stream"
        }
      ],
      "execution_count": null
    },
    {
      "cell_type": "markdown",
      "source": [
        "Now try the same approach, but indicate to the model that it should \"think step by step\"."
      ],
      "metadata": {
        "id": "e12b19677bfd"
      }
    },
    {
      "cell_type": "code",
      "source": [
        "prompt = \"\"\"When I was 4 years old, my partner was 3 times my age. Now,\n",
        "I am 20 years old. How old is my partner? Let's think step by step.\"\"\"\n",
        "\n",
        "response = model.generate_content(prompt, request_options=retry_policy)\n",
        "print(response.text)"
      ],
      "metadata": {
        "id": "ffd7536a481f",
        "trusted": true,
        "execution": {
          "iopub.status.busy": "2024-11-13T10:06:41.382894Z",
          "iopub.execute_input": "2024-11-13T10:06:41.383203Z",
          "iopub.status.idle": "2024-11-13T10:06:42.119919Z",
          "shell.execute_reply.started": "2024-11-13T10:06:41.383171Z",
          "shell.execute_reply": "2024-11-13T10:06:42.117765Z"
        },
        "outputId": "d850a2a5-3f5f-4c21-ab91-713d1ddab8dd"
      },
      "outputs": [
        {
          "name": "stdout",
          "text": "Here's how to solve this:\n\n* **When you were 4:** Your partner was 3 times your age, meaning they were 4 * 3 = 12 years old.\n* **Age difference:** Your partner is 12 - 4 = 8 years older than you.\n* **Current age:** Since you are now 20, your partner is 20 + 8 = **28 years old**. \n\n",
          "output_type": "stream"
        }
      ],
      "execution_count": null
    },
    {
      "cell_type": "markdown",
      "source": [
        "### ReAct: Reason and act\n",
        "\n",
        "In this example you will run a ReAct prompt directly in the Gemini API and perform the searching steps yourself. As this prompt follows a well-defined structure, there are frameworks available that wrap the prompt into easier-to-use APIs that make tool calls automatically, such as the LangChain example from the chapter.\n",
        "\n",
        "To try this out with the Wikipedia search engine, check out the [Searching Wikipedia with ReAct](https://github.com/google-gemini/cookbook/blob/main/examples/Search_Wikipedia_using_ReAct.ipynb) cookbook example.\n",
        "\n",
        "\n",
        "> Note: The prompt and in-context examples used here are from [https://github.com/ysymyth/ReAct](https://github.com/ysymyth/ReAct) which is published under a [MIT license](https://opensource.org/licenses/MIT), Copyright (c) 2023 Shunyu Yao.\n",
        "\n",
        "<table align=left>\n",
        "  <td>\n",
        "    <a target=\"_blank\" href=\"https://aistudio.google.com/prompts/18oo63Lwosd-bQ6Ay51uGogB3Wk3H8XMO\"><img src=\"https://ai.google.dev/site-assets/images/marketing/home/icon-ais.png\" style=\"height: 24px\" height=24/> Open in AI Studio</a>\n",
        "  </td>\n",
        "</table>\n"
      ],
      "metadata": {
        "id": "oiLgBQJj0V53"
      }
    },
    {
      "cell_type": "code",
      "source": [
        "model_instructions = \"\"\"\n",
        "Solve a question answering task with interleaving Thought, Action, Observation steps. Thought can reason about the current situation,\n",
        "Observation is understanding relevant information from an Action's output and Action can be one of three types:\n",
        " (1) <search>entity</search>, which searches the exact entity on Wikipedia and returns the first paragraph if it exists. If not, it\n",
        "     will return some similar entities to search and you can try to search the information from those topics.\n",
        " (2) <lookup>keyword</lookup>, which returns the next sentence containing keyword in the current context. This only does exact matches,\n",
        "     so keep your searches short.\n",
        " (3) <finish>answer</finish>, which returns the answer and finishes the task.\n",
        "\"\"\"\n",
        "\n",
        "example1 = \"\"\"Question\n",
        "Musician and satirist Allie Goertz wrote a song about the \"The Simpsons\" character Milhouse, who Matt Groening named after who?\n",
        "\n",
        "Thought 1\n",
        "The question simplifies to \"The Simpsons\" character Milhouse is named after who. I only need to search Milhouse and find who it is named after.\n",
        "\n",
        "Action 1\n",
        "<search>Milhouse</search>\n",
        "\n",
        "Observation 1\n",
        "Milhouse Mussolini Van Houten is a recurring character in the Fox animated television series The Simpsons voiced by Pamela Hayden and created by Matt Groening.\n",
        "\n",
        "Thought 2\n",
        "The paragraph does not tell who Milhouse is named after, maybe I can look up \"named after\".\n",
        "\n",
        "Action 2\n",
        "<lookup>named after</lookup>\n",
        "\n",
        "Observation 2\n",
        "Milhouse was named after U.S. president Richard Nixon, whose middle name was Milhous.\n",
        "\n",
        "Thought 3\n",
        "Milhouse was named after U.S. president Richard Nixon, so the answer is Richard Nixon.\n",
        "\n",
        "Action 3\n",
        "<finish>Richard Nixon</finish>\n",
        "\"\"\"\n",
        "\n",
        "example2 = \"\"\"Question\n",
        "What is the elevation range for the area that the eastern sector of the Colorado orogeny extends into?\n",
        "\n",
        "Thought 1\n",
        "I need to search Colorado orogeny, find the area that the eastern sector of the Colorado orogeny extends into, then find the elevation range of the area.\n",
        "\n",
        "Action 1\n",
        "<search>Colorado orogeny</search>\n",
        "\n",
        "Observation 1\n",
        "The Colorado orogeny was an episode of mountain building (an orogeny) in Colorado and surrounding areas.\n",
        "\n",
        "Thought 2\n",
        "It does not mention the eastern sector. So I need to look up eastern sector.\n",
        "\n",
        "Action 2\n",
        "<lookup>eastern sector</lookup>\n",
        "\n",
        "Observation 2\n",
        "The eastern sector extends into the High Plains and is called the Central Plains orogeny.\n",
        "\n",
        "Thought 3\n",
        "The eastern sector of Colorado orogeny extends into the High Plains. So I need to search High Plains and find its elevation range.\n",
        "\n",
        "Action 3\n",
        "<search>High Plains</search>\n",
        "\n",
        "Observation 3\n",
        "High Plains refers to one of two distinct land regions\n",
        "\n",
        "Thought 4\n",
        "I need to instead search High Plains (United States).\n",
        "\n",
        "Action 4\n",
        "<search>High Plains (United States)</search>\n",
        "\n",
        "Observation 4\n",
        "The High Plains are a subregion of the Great Plains. From east to west, the High Plains rise in elevation from around 1,800 to 7,000 ft (550 to 2,130m).\n",
        "\n",
        "Thought 5\n",
        "High Plains rise in elevation from around 1,800 to 7,000 ft, so the answer is 1,800 to 7,000 ft.\n",
        "\n",
        "Action 5\n",
        "<finish>1,800 to 7,000 ft</finish>\n",
        "\"\"\"\n",
        "\n",
        "# Come up with more examples yourself, or take a look through https://github.com/ysymyth/ReAct/"
      ],
      "metadata": {
        "id": "cBgyNJ5z0VSs",
        "trusted": true,
        "execution": {
          "iopub.status.busy": "2024-11-13T10:06:42.121364Z",
          "iopub.execute_input": "2024-11-13T10:06:42.121712Z",
          "iopub.status.idle": "2024-11-13T10:06:42.128806Z",
          "shell.execute_reply.started": "2024-11-13T10:06:42.121677Z",
          "shell.execute_reply": "2024-11-13T10:06:42.127748Z"
        }
      },
      "outputs": [],
      "execution_count": null
    },
    {
      "cell_type": "markdown",
      "source": [
        "To capture a single step at a time, while ignoring any hallucinated Observation steps, you will use `stop_sequences` to end the generation process. The steps are `Thought`, `Action`, `Observation`, in that order."
      ],
      "metadata": {
        "id": "C3wbfstjTgey"
      }
    },
    {
      "cell_type": "code",
      "source": [
        "question = \"\"\"Question\n",
        "Who was the youngest author listed on the transformers NLP paper?\n",
        "\"\"\"\n",
        "\n",
        "model = genai.GenerativeModel('gemini-1.5-flash-latest')\n",
        "react_chat = model.start_chat()\n",
        "\n",
        "# You will perform the Action, so generate up to, but not including, the Observation.\n",
        "config = genai.GenerationConfig(stop_sequences=[\"\\nObservation\"])\n",
        "\n",
        "resp = react_chat.send_message(\n",
        "    [model_instructions, example1, example2, question],\n",
        "    generation_config=config,\n",
        "    request_options=retry_policy)\n",
        "print(resp.text)"
      ],
      "metadata": {
        "id": "8mxrXRkRTdXm",
        "trusted": true,
        "execution": {
          "iopub.status.busy": "2024-11-13T10:06:42.130137Z",
          "iopub.execute_input": "2024-11-13T10:06:42.130517Z",
          "iopub.status.idle": "2024-11-13T10:06:43.924798Z",
          "shell.execute_reply.started": "2024-11-13T10:06:42.130483Z",
          "shell.execute_reply": "2024-11-13T10:06:43.923520Z"
        },
        "outputId": "851f9c58-b8a3-44d5-c1fc-4f65cbc972db"
      },
      "outputs": [
        {
          "name": "stdout",
          "text": "Thought 1\nI need to search for the Transformers NLP paper and find the list of authors. Then I need to figure out who the youngest author is.\n\nAction 1\n<search>Transformers NLP paper</search>\n\n",
          "output_type": "stream"
        }
      ],
      "execution_count": null
    },
    {
      "cell_type": "markdown",
      "source": [
        "Now you can perform this research yourself and supply it back to the model."
      ],
      "metadata": {
        "id": "aW2PIdLbVv3l"
      }
    },
    {
      "cell_type": "code",
      "source": [
        "observation = \"\"\"Observation 1\n",
        "[1706.03762] Attention Is All You Need\n",
        "Ashish Vaswani, Noam Shazeer, Niki Parmar, Jakob Uszkoreit, Llion Jones, Aidan N. Gomez, Lukasz Kaiser, Illia Polosukhin\n",
        "We propose a new simple network architecture, the Transformer, based solely on attention mechanisms, dispensing with recurrence and convolutions entirely.\n",
        "\"\"\"\n",
        "resp = react_chat.send_message(observation, generation_config=config, request_options=retry_policy)\n",
        "print(resp.text)"
      ],
      "metadata": {
        "id": "mLMc0DZaV9g2",
        "trusted": true,
        "execution": {
          "iopub.status.busy": "2024-11-13T10:06:43.926029Z",
          "iopub.execute_input": "2024-11-13T10:06:43.926446Z",
          "iopub.status.idle": "2024-11-13T10:06:44.600318Z",
          "shell.execute_reply.started": "2024-11-13T10:06:43.926397Z",
          "shell.execute_reply": "2024-11-13T10:06:44.599102Z"
        },
        "outputId": "f2f7223e-dacd-4fad-c458-7e09417bc371"
      },
      "outputs": [
        {
          "name": "stdout",
          "text": "Thought 2\nThe observation lists the authors but does not tell their ages. I will need to look up each author individually.\n\nAction 2\n<search>Ashish Vaswani age</search> \n\n",
          "output_type": "stream"
        }
      ],
      "execution_count": null
    },
    {
      "cell_type": "markdown",
      "source": [
        "This process repeats until the `<finish>` action is reached. You can continue running this yourself if you like, or try the [Wikipedia example](https://github.com/google-gemini/cookbook/blob/main/examples/Search_Wikipedia_using_ReAct.ipynb) to see a fully automated ReAct system at work."
      ],
      "metadata": {
        "id": "bo0tzf4nX6dA"
      }
    },
    {
      "cell_type": "markdown",
      "source": [
        "## Code prompting"
      ],
      "metadata": {
        "id": "jPiZ_eIIaVPt"
      }
    },
    {
      "cell_type": "markdown",
      "source": [
        "### Generating code\n",
        "\n",
        "The Gemini family of models can be used to generate code, configuration and scripts. Generating code can be helpful when learning to code, learning a new language or for rapidly generating a first draft.\n",
        "\n",
        "It's important to be aware that since LLMs can't reason, and can repeat training data, it's essential to read and test your code first, and comply with any relevant licenses.\n",
        "\n",
        "<table align=left>\n",
        "  <td>\n",
        "    <a target=\"_blank\" href=\"https://aistudio.google.com/prompts/1YX71JGtzDjXQkgdes8bP6i3oH5lCRKxv\"><img src=\"https://ai.google.dev/site-assets/images/marketing/home/icon-ais.png\" style=\"height: 24px\" height=24/> Open in AI Studio</a>\n",
        "  </td>\n",
        "</table>"
      ],
      "metadata": {
        "id": "ZinKamwXeR6C"
      }
    },
    {
      "cell_type": "code",
      "source": [
        "model = genai.GenerativeModel(\n",
        "    'gemini-1.5-flash-latest',\n",
        "    generation_config=genai.GenerationConfig(\n",
        "        temperature=1,\n",
        "        top_p=1,\n",
        "        max_output_tokens=1024,\n",
        "    ))\n",
        "\n",
        "# Gemini 1.5 models are very chatty, so it helps to specify they stick to the code.\n",
        "code_prompt = \"\"\"\n",
        "Write a Python function to calculate the factorial of a number. No explanation, provide only the code.\n",
        "\"\"\"\n",
        "\n",
        "response = model.generate_content(code_prompt, request_options=retry_policy)\n",
        "Markdown(response.text)"
      ],
      "metadata": {
        "id": "fOQP9pqmeUO1",
        "trusted": true,
        "execution": {
          "iopub.status.busy": "2024-11-13T10:06:44.601670Z",
          "iopub.execute_input": "2024-11-13T10:06:44.602109Z",
          "iopub.status.idle": "2024-11-13T10:06:45.148912Z",
          "shell.execute_reply.started": "2024-11-13T10:06:44.602073Z",
          "shell.execute_reply": "2024-11-13T10:06:45.147899Z"
        },
        "outputId": "901fa57f-e4e3-46c1-ecb1-aeee8b14d80b"
      },
      "outputs": [
        {
          "execution_count": 26,
          "output_type": "execute_result",
          "data": {
            "text/plain": "<IPython.core.display.Markdown object>",
            "text/markdown": "```python\ndef factorial(n):\n  if n == 0:\n    return 1\n  else:\n    return n * factorial(n-1)\n```"
          },
          "metadata": {}
        }
      ],
      "execution_count": null
    },
    {
      "cell_type": "markdown",
      "source": [
        "### Code execution\n",
        "\n",
        "The Gemini API can automatically run generated code too, and will return the output.\n",
        "\n",
        "<table align=left>\n",
        "  <td>\n",
        "    <a target=\"_blank\" href=\"https://aistudio.google.com/prompts/11veFr_VYEwBWcLkhNLr-maCG0G8sS_7Z\"><img src=\"https://ai.google.dev/site-assets/images/marketing/home/icon-ais.png\" style=\"height: 24px\" height=24/> Open in AI Studio</a>\n",
        "  </td>\n",
        "</table>"
      ],
      "metadata": {
        "id": "wlBMWSFhgVRQ"
      }
    },
    {
      "cell_type": "code",
      "source": [
        "model = genai.GenerativeModel(\n",
        "    'gemini-1.5-flash-latest',\n",
        "    tools='code_execution',)\n",
        "\n",
        "code_exec_prompt = \"\"\"\n",
        "Calculate the sum of the first 14 prime numbers. Only consider the odd primes, and make sure you count them all.\n",
        "\"\"\"\n",
        "\n",
        "response = model.generate_content(code_exec_prompt, request_options=retry_policy)\n",
        "Markdown(response.text)"
      ],
      "metadata": {
        "id": "jT3OfWYfhjRL",
        "trusted": true,
        "execution": {
          "iopub.status.busy": "2024-11-13T10:06:45.150314Z",
          "iopub.execute_input": "2024-11-13T10:06:45.151162Z",
          "iopub.status.idle": "2024-11-13T10:06:47.304870Z",
          "shell.execute_reply.started": "2024-11-13T10:06:45.151114Z",
          "shell.execute_reply": "2024-11-13T10:06:47.303541Z"
        },
        "outputId": "d8b6c74c-2aff-4e70-f654-0748b3b74fb9"
      },
      "outputs": [
        {
          "execution_count": 27,
          "output_type": "execute_result",
          "data": {
            "text/plain": "<IPython.core.display.Markdown object>",
            "text/markdown": "I understand. You want me to find the sum of the first 14 odd prime numbers. \n\nHere's how I'll do it:\n\n1. **Identify the first 14 odd primes:**  I'll start with 2, 3, 5, 7... and continue listing odd primes until I have 14 of them.\n2. **Sum them up:**  Once I have the list, I'll add all the numbers together.\n\n\n``` python\ndef is_prime(num):\n  \"\"\"Checks if a number is prime.\"\"\"\n  if num <= 1:\n    return False\n  for i in range(2, int(num**0.5) + 1):\n    if num % i == 0:\n      return False\n  return True\n\nprimes = []\ncount = 0\nnum = 2\nwhile count < 14:\n  if is_prime(num) and num % 2 != 0:\n    primes.append(num)\n    count += 1\n  num += 1\n\nprint(f'The first 14 odd primes are: {primes}')\nprint(f'Their sum is: {sum(primes)}')\n\n```\n```\nThe first 14 odd primes are: [3, 5, 7, 11, 13, 17, 19, 23, 29, 31, 37, 41, 43, 47]\nTheir sum is: 326\n\n```\nThe sum of the first 14 odd prime numbers is 326. \n"
          },
          "metadata": {}
        }
      ],
      "execution_count": null
    },
    {
      "cell_type": "markdown",
      "source": [
        "While this looks like a single-part response, you can inspect the response to see the each of the steps: initial text, code generation, execution results, and final text summary."
      ],
      "metadata": {
        "id": "ZspT1GSkjG6d"
      }
    },
    {
      "cell_type": "code",
      "source": [
        "for part in response.candidates[0].content.parts:\n",
        "  print(part)\n",
        "  print(\"-----\")"
      ],
      "metadata": {
        "id": "j4gQVzcRjRX-",
        "trusted": true,
        "execution": {
          "iopub.status.busy": "2024-11-13T10:06:47.306141Z",
          "iopub.execute_input": "2024-11-13T10:06:47.306489Z",
          "iopub.status.idle": "2024-11-13T10:06:47.311943Z",
          "shell.execute_reply.started": "2024-11-13T10:06:47.306447Z",
          "shell.execute_reply": "2024-11-13T10:06:47.310828Z"
        },
        "outputId": "7c348629-60df-4bd4-9db7-220443512925"
      },
      "outputs": [
        {
          "name": "stdout",
          "text": "text: \"I understand. You want me to find the sum of the first 14 odd prime numbers. \\n\\nHere\\'s how I\\'ll do it:\\n\\n1. **Identify the first 14 odd primes:**  I\\'ll start with 2, 3, 5, 7... and continue listing odd primes until I have 14 of them.\\n2. **Sum them up:**  Once I have the list, I\\'ll add all the numbers together.\\n\\n\"\n\n-----\nexecutable_code {\n  language: PYTHON\n  code: \"\\ndef is_prime(num):\\n  \\\"\\\"\\\"Checks if a number is prime.\\\"\\\"\\\"\\n  if num <= 1:\\n    return False\\n  for i in range(2, int(num**0.5) + 1):\\n    if num % i == 0:\\n      return False\\n  return True\\n\\nprimes = []\\ncount = 0\\nnum = 2\\nwhile count < 14:\\n  if is_prime(num) and num % 2 != 0:\\n    primes.append(num)\\n    count += 1\\n  num += 1\\n\\nprint(f\\'The first 14 odd primes are: {primes}\\')\\nprint(f\\'Their sum is: {sum(primes)}\\')\\n\"\n}\n\n-----\ncode_execution_result {\n  outcome: OUTCOME_OK\n  output: \"The first 14 odd primes are: [3, 5, 7, 11, 13, 17, 19, 23, 29, 31, 37, 41, 43, 47]\\nTheir sum is: 326\\n\"\n}\n\n-----\ntext: \"The sum of the first 14 odd prime numbers is 326. \\n\"\n\n-----\n",
          "output_type": "stream"
        }
      ],
      "execution_count": null
    },
    {
      "cell_type": "markdown",
      "source": [
        "### Explaining code\n",
        "\n",
        "The Gemini family of models can explain code to you too.\n",
        "\n",
        "<table align=left>\n",
        "  <td>\n",
        "    <a target=\"_blank\" href=\"https://aistudio.google.com/prompts/1N7LGzWzCYieyOf_7bAG4plrmkpDNmUyb\"><img src=\"https://ai.google.dev/site-assets/images/marketing/home/icon-ais.png\" style=\"height: 24px\" height=24/> Open in AI Studio</a>\n",
        "  </td>\n",
        "</table>"
      ],
      "metadata": {
        "id": "1gUX8QzCj4d5"
      }
    },
    {
      "cell_type": "code",
      "source": [
        "file_contents = !curl https://raw.githubusercontent.com/magicmonty/bash-git-prompt/refs/heads/master/gitprompt.sh\n",
        "\n",
        "explain_prompt = f\"\"\"\n",
        "Please explain what this file does at a very high level. What is it, and why would I use it?\n",
        "\n",
        "```\n",
        "{file_contents}\n",
        "```\n",
        "\"\"\"\n",
        "\n",
        "model = genai.GenerativeModel('gemini-1.5-flash-latest')\n",
        "\n",
        "response = model.generate_content(explain_prompt, request_options=retry_policy)\n",
        "Markdown(response.text)"
      ],
      "metadata": {
        "id": "7_jPMMoxkIEb",
        "trusted": true,
        "execution": {
          "iopub.status.busy": "2024-11-13T10:06:47.313178Z",
          "iopub.execute_input": "2024-11-13T10:06:47.313493Z",
          "iopub.status.idle": "2024-11-13T10:06:50.713110Z",
          "shell.execute_reply.started": "2024-11-13T10:06:47.313460Z",
          "shell.execute_reply": "2024-11-13T10:06:50.712084Z"
        },
        "outputId": "16643856-595b-4941-e1f1-3042ed36f8e5"
      },
      "outputs": [
        {
          "execution_count": 29,
          "output_type": "execute_result",
          "data": {
            "text/plain": "<IPython.core.display.Markdown object>",
            "text/markdown": "This file is a Bash/Zsh script designed to enhance your command-line prompt by incorporating Git repository information.  \n\nHere's why you'd use it:\n\n* **Clearer Context:**  Instead of just a generic prompt, you'll see your current Git branch, whether you're ahead or behind the remote, and other useful Git status information. This provides immediate context for your work.\n* **Enhanced Workflow:** The script integrates with your Git repository, allowing you to easily see if there are changes to commit, if there are conflicts to resolve, or if you need to pull from the remote.\n\n**How it works (at a very high level):**\n\n1. **Setup:** The script defines various functions and variables related to Git prompt customization, themes, and color settings.\n2. **Git Status:** It uses the `git status` command to fetch information about your repository's current state.\n3. **Prompt Formatting:** The script then formats the Git information into a visually appealing prompt that includes your current branch, upstream status, and potentially other details. \n4. **Integration:**  It modifies your `PS1` environment variable (which defines your prompt) to display the formatted Git information.\n\n**Key features:**\n\n* **Themes:**  Allows you to choose from a set of color themes or even create your own custom theme.\n* **Customization:** Provides many options for customizing how the Git information is displayed in your prompt.\n* **Remote Status:**  Can fetch information about your remote repository's status, allowing you to see if you're ahead or behind.\n* **Virtual Environment Integration:**  Can show your active virtual environment (if you use one).\n\n**In essence, this script helps you stay informed about the status of your Git repository directly in your command-line prompt, making your development workflow smoother and more efficient.** \n"
          },
          "metadata": {}
        }
      ],
      "execution_count": null
    },
    {
      "cell_type": "markdown",
      "source": [
        "## Learn more\n",
        "\n",
        "To learn more about prompting in depth:\n",
        "\n",
        "* Check out the whitepaper issued with today's content,\n",
        "* Try out the apps listed at the top of this notebook ([TextFX](https://textfx.withgoogle.com/), [SQL Talk](https://sql-talk-r5gdynozbq-uc.a.run.app/) and [NotebookLM](https://notebooklm.google/)),\n",
        "* Read the [Introduction to Prompting](https://ai.google.dev/gemini-api/docs/prompting-intro) from the Gemini API docs,\n",
        "* Explore the Gemini API's [prompt gallery](https://ai.google.dev/gemini-api/prompts) and try them out in AI Studio,\n",
        "* Check out the Gemini API cookbook for [inspirational examples](https://github.com/google-gemini/cookbook/blob/main/examples/) and [educational quickstarts](https://github.com/google-gemini/cookbook/blob/main/quickstarts/).\n",
        "\n",
        "And please share anything exciting you have tried in the Discord!"
      ],
      "metadata": {
        "id": "2a8266d97ce5"
      }
    }
  ]
}